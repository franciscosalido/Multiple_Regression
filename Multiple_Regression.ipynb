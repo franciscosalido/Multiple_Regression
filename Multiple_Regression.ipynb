{
  "nbformat": 4,
  "nbformat_minor": 0,
  "metadata": {
    "colab": {
      "name": "Multiple_Regression.ipynb",
      "provenance": [],
      "authorship_tag": "ABX9TyNVJgBYRzMelACD1cq3/1yA",
      "include_colab_link": true
    },
    "kernelspec": {
      "name": "python3",
      "display_name": "Python 3"
    }
  },
  "cells": [
    {
      "cell_type": "markdown",
      "metadata": {
        "id": "view-in-github",
        "colab_type": "text"
      },
      "source": [
        "<a href=\"https://colab.research.google.com/github/franciscosalido/Multiple_Regression/blob/master/Multiple_Regression.ipynb\" target=\"_parent\"><img src=\"https://colab.research.google.com/assets/colab-badge.svg\" alt=\"Open In Colab\"/></a>"
      ]
    },
    {
      "cell_type": "markdown",
      "metadata": {
        "id": "iEXV0TcRVBlR",
        "colab_type": "text"
      },
      "source": [
        "# Multiple Regression"
      ]
    },
    {
      "cell_type": "markdown",
      "metadata": {
        "id": "tAXORQACVBqy",
        "colab_type": "text"
      },
      "source": [
        "## Libraries"
      ]
    },
    {
      "cell_type": "code",
      "metadata": {
        "id": "ydfOQ542Rt9M",
        "colab_type": "code",
        "colab": {}
      },
      "source": [
        "import pandas as pd\n",
        "import numpy as np\n",
        "import matplotlib.pyplot as plt\n",
        "import seaborn as sns\n",
        "sns.set()\n",
        "import statsmodels as sm\n",
        "from statsmodels.stats.outliers_influence import variance_inflation_factor\n",
        "from sklearn.model_selection import train_test_split, GridSearchCV, RandomizedSearchCV\n",
        "from sklearn.linear_model import LinearRegression, Ridge, Lasso\n",
        "from sklearn.tree import DecisionTreeRegressor\n",
        "from sklearn.ensemble import RandomForestRegressor, GradientBoostingRegressor\n",
        "from sklearn.metrics import r2_score, mean_squared_error\n",
        "from sklearn import preprocessing\n"
      ],
      "execution_count": 0,
      "outputs": []
    },
    {
      "cell_type": "markdown",
      "metadata": {
        "id": "2J5Ih3H9VSX6",
        "colab_type": "text"
      },
      "source": [
        "## Data Preprocessing"
      ]
    },
    {
      "cell_type": "markdown",
      "metadata": {
        "id": "kig3GE69V5TB",
        "colab_type": "text"
      },
      "source": [
        "Loading Data File"
      ]
    },
    {
      "cell_type": "code",
      "metadata": {
        "id": "E32QGLYKU0r5",
        "colab_type": "code",
        "colab": {}
      },
      "source": [
        "file1 = 'https://raw.githubusercontent.com/prince381/car_mpg_predict/master/cars1.csv'\n",
        "file2 = 'https://raw.githubusercontent.com/prince381/car_mpg_predict/master/cars2.csv'"
      ],
      "execution_count": 0,
      "outputs": []
    },
    {
      "cell_type": "markdown",
      "metadata": {
        "id": "mzjyeuvoV9qZ",
        "colab_type": "text"
      },
      "source": [
        "Reading Data File"
      ]
    },
    {
      "cell_type": "code",
      "metadata": {
        "id": "QjLK9FdPWBo9",
        "colab_type": "code",
        "colab": {}
      },
      "source": [
        "cars1 = pd.read_csv(file1)\n",
        "cars2 = pd.read_csv(file2)"
      ],
      "execution_count": 0,
      "outputs": []
    },
    {
      "cell_type": "markdown",
      "metadata": {
        "id": "4Pxy4xjkWEt7",
        "colab_type": "text"
      },
      "source": [
        "Cleaning the Data"
      ]
    },
    {
      "cell_type": "code",
      "metadata": {
        "id": "tIe3pVyGWHO6",
        "colab_type": "code",
        "colab": {}
      },
      "source": [
        "cars1.drop(cars1.columns[9:], axis=1, inplace=True)"
      ],
      "execution_count": 0,
      "outputs": []
    },
    {
      "cell_type": "markdown",
      "metadata": {
        "id": "AFhF2-MtWXjW",
        "colab_type": "text"
      },
      "source": [
        "Concatenate the two variables"
      ]
    },
    {
      "cell_type": "code",
      "metadata": {
        "id": "j9XnABTjWhHK",
        "colab_type": "code",
        "colab": {}
      },
      "source": [
        "cars = pd.concat([cars1, cars2])"
      ],
      "execution_count": 0,
      "outputs": []
    },
    {
      "cell_type": "markdown",
      "metadata": {
        "id": "ZlNMr4PSWnxX",
        "colab_type": "text"
      },
      "source": [
        "Print the head of the new data variable"
      ]
    },
    {
      "cell_type": "code",
      "metadata": {
        "id": "mWoGeskqWw2R",
        "colab_type": "code",
        "colab": {
          "base_uri": "https://localhost:8080/",
          "height": 204
        },
        "outputId": "6960518c-33b7-41c1-d6bc-99777a297b6a"
      },
      "source": [
        "cars.head()"
      ],
      "execution_count": 18,
      "outputs": [
        {
          "output_type": "execute_result",
          "data": {
            "text/html": [
              "<div>\n",
              "<style scoped>\n",
              "    .dataframe tbody tr th:only-of-type {\n",
              "        vertical-align: middle;\n",
              "    }\n",
              "\n",
              "    .dataframe tbody tr th {\n",
              "        vertical-align: top;\n",
              "    }\n",
              "\n",
              "    .dataframe thead th {\n",
              "        text-align: right;\n",
              "    }\n",
              "</style>\n",
              "<table border=\"1\" class=\"dataframe\">\n",
              "  <thead>\n",
              "    <tr style=\"text-align: right;\">\n",
              "      <th></th>\n",
              "      <th>mpg</th>\n",
              "      <th>cylinders</th>\n",
              "      <th>displacement</th>\n",
              "      <th>horsepower</th>\n",
              "      <th>weight</th>\n",
              "      <th>acceleration</th>\n",
              "      <th>model</th>\n",
              "      <th>origin</th>\n",
              "      <th>car</th>\n",
              "    </tr>\n",
              "  </thead>\n",
              "  <tbody>\n",
              "    <tr>\n",
              "      <th>0</th>\n",
              "      <td>18.0</td>\n",
              "      <td>8</td>\n",
              "      <td>307</td>\n",
              "      <td>130</td>\n",
              "      <td>3504</td>\n",
              "      <td>12.0</td>\n",
              "      <td>70</td>\n",
              "      <td>1</td>\n",
              "      <td>chevrolet chevelle malibu</td>\n",
              "    </tr>\n",
              "    <tr>\n",
              "      <th>1</th>\n",
              "      <td>15.0</td>\n",
              "      <td>8</td>\n",
              "      <td>350</td>\n",
              "      <td>165</td>\n",
              "      <td>3693</td>\n",
              "      <td>11.5</td>\n",
              "      <td>70</td>\n",
              "      <td>1</td>\n",
              "      <td>buick skylark 320</td>\n",
              "    </tr>\n",
              "    <tr>\n",
              "      <th>2</th>\n",
              "      <td>18.0</td>\n",
              "      <td>8</td>\n",
              "      <td>318</td>\n",
              "      <td>150</td>\n",
              "      <td>3436</td>\n",
              "      <td>11.0</td>\n",
              "      <td>70</td>\n",
              "      <td>1</td>\n",
              "      <td>plymouth satellite</td>\n",
              "    </tr>\n",
              "    <tr>\n",
              "      <th>3</th>\n",
              "      <td>16.0</td>\n",
              "      <td>8</td>\n",
              "      <td>304</td>\n",
              "      <td>150</td>\n",
              "      <td>3433</td>\n",
              "      <td>12.0</td>\n",
              "      <td>70</td>\n",
              "      <td>1</td>\n",
              "      <td>amc rebel sst</td>\n",
              "    </tr>\n",
              "    <tr>\n",
              "      <th>4</th>\n",
              "      <td>17.0</td>\n",
              "      <td>8</td>\n",
              "      <td>302</td>\n",
              "      <td>140</td>\n",
              "      <td>3449</td>\n",
              "      <td>10.5</td>\n",
              "      <td>70</td>\n",
              "      <td>1</td>\n",
              "      <td>ford torino</td>\n",
              "    </tr>\n",
              "  </tbody>\n",
              "</table>\n",
              "</div>"
            ],
            "text/plain": [
              "    mpg  cylinders  displacement  ... model  origin                        car\n",
              "0  18.0          8           307  ...    70       1  chevrolet chevelle malibu\n",
              "1  15.0          8           350  ...    70       1          buick skylark 320\n",
              "2  18.0          8           318  ...    70       1         plymouth satellite\n",
              "3  16.0          8           304  ...    70       1              amc rebel sst\n",
              "4  17.0          8           302  ...    70       1                ford torino\n",
              "\n",
              "[5 rows x 9 columns]"
            ]
          },
          "metadata": {
            "tags": []
          },
          "execution_count": 18
        }
      ]
    },
    {
      "cell_type": "markdown",
      "metadata": {
        "id": "sfwBuKi0XnZY",
        "colab_type": "text"
      },
      "source": [
        "Print the info of the new data variable"
      ]
    },
    {
      "cell_type": "code",
      "metadata": {
        "id": "njGPIjOSXuAA",
        "colab_type": "code",
        "colab": {
          "base_uri": "https://localhost:8080/",
          "height": 255
        },
        "outputId": "3e240ca2-1c6e-4f82-dd45-0c18bf3ccc7f"
      },
      "source": [
        "cars.info()"
      ],
      "execution_count": 19,
      "outputs": [
        {
          "output_type": "stream",
          "text": [
            "<class 'pandas.core.frame.DataFrame'>\n",
            "Int64Index: 398 entries, 0 to 199\n",
            "Data columns (total 9 columns):\n",
            "mpg             398 non-null float64\n",
            "cylinders       398 non-null int64\n",
            "displacement    398 non-null int64\n",
            "horsepower      398 non-null object\n",
            "weight          398 non-null int64\n",
            "acceleration    398 non-null float64\n",
            "model           398 non-null int64\n",
            "origin          398 non-null int64\n",
            "car             398 non-null object\n",
            "dtypes: float64(2), int64(5), object(2)\n",
            "memory usage: 31.1+ KB\n"
          ],
          "name": "stdout"
        }
      ]
    },
    {
      "cell_type": "markdown",
      "metadata": {
        "id": "c0Y25TAYaM2O",
        "colab_type": "text"
      },
      "source": [
        "## Treating the Data"
      ]
    },
    {
      "cell_type": "markdown",
      "metadata": {
        "id": "VuEyx84SX9al",
        "colab_type": "text"
      },
      "source": [
        "Print the Horsepower column unique values"
      ]
    },
    {
      "cell_type": "code",
      "metadata": {
        "id": "QNgcHbKsYFtL",
        "colab_type": "code",
        "colab": {
          "base_uri": "https://localhost:8080/",
          "height": 187
        },
        "outputId": "e868f098-a120-4f8e-f5cc-166c7c72fad2"
      },
      "source": [
        "cars.horsepower.unique()"
      ],
      "execution_count": 20,
      "outputs": [
        {
          "output_type": "execute_result",
          "data": {
            "text/plain": [
              "array(['130', '165', '150', '140', '198', '220', '215', '225', '190',\n",
              "       '170', '160', '95', '97', '85', '88', '46', '87', '90', '113',\n",
              "       '200', '210', '193', '?', '100', '105', '175', '153', '180', '110',\n",
              "       '72', '86', '70', '76', '65', '69', '60', '80', '54', '208', '155',\n",
              "       '112', '92', '145', '137', '158', '167', '94', '107', '230', '49',\n",
              "       '75', '91', '122', '67', '83', '78', '52', '61', '93', '148',\n",
              "       '129', '96', '71', '98', '115', '53', '81', '79', '120', '152',\n",
              "       '102', '108', '68', '58', '149', '89', '63', '48', '66', '139',\n",
              "       '103', '125', '133', '138', '135', '142', '77', '62', '132', '84',\n",
              "       '64', '74', '116', '82'], dtype=object)"
            ]
          },
          "metadata": {
            "tags": []
          },
          "execution_count": 20
        }
      ]
    },
    {
      "cell_type": "markdown",
      "metadata": {
        "id": "UVdy-14_Y3PX",
        "colab_type": "text"
      },
      "source": [
        "Replace '?' with 'NaN' values "
      ]
    },
    {
      "cell_type": "code",
      "metadata": {
        "id": "uVGEYM9DYJ3P",
        "colab_type": "code",
        "colab": {}
      },
      "source": [
        "cars.horsepower = cars.horsepower.str.replace('?', 'NaN').astype(float)"
      ],
      "execution_count": 0,
      "outputs": []
    },
    {
      "cell_type": "markdown",
      "metadata": {
        "id": "WGx9BKMYZjZr",
        "colab_type": "text"
      },
      "source": [
        "Fill the missing data with mean value of horsepower"
      ]
    },
    {
      "cell_type": "code",
      "metadata": {
        "id": "Z9jKQvZuYccF",
        "colab_type": "code",
        "colab": {}
      },
      "source": [
        "cars.horsepower.fillna(cars.horsepower.mean(), inplace=True)"
      ],
      "execution_count": 0,
      "outputs": []
    },
    {
      "cell_type": "markdown",
      "metadata": {
        "id": "toWdM2IjZqCz",
        "colab_type": "text"
      },
      "source": [
        "Change the data type to integer"
      ]
    },
    {
      "cell_type": "code",
      "metadata": {
        "id": "H5ztH_dlZwql",
        "colab_type": "code",
        "colab": {}
      },
      "source": [
        "cars.horsepower = cars.horsepower.astype(int)"
      ],
      "execution_count": 0,
      "outputs": []
    },
    {
      "cell_type": "markdown",
      "metadata": {
        "id": "5ZezQgNHZy4d",
        "colab_type": "text"
      },
      "source": [
        "Print the info of the data again"
      ]
    },
    {
      "cell_type": "code",
      "metadata": {
        "id": "YDtol9HmZ5A_",
        "colab_type": "code",
        "colab": {
          "base_uri": "https://localhost:8080/",
          "height": 255
        },
        "outputId": "76973cae-d05e-49ac-b797-d30bd1bc8832"
      },
      "source": [
        "cars.info()"
      ],
      "execution_count": 25,
      "outputs": [
        {
          "output_type": "stream",
          "text": [
            "<class 'pandas.core.frame.DataFrame'>\n",
            "Int64Index: 398 entries, 0 to 199\n",
            "Data columns (total 9 columns):\n",
            "mpg             398 non-null float64\n",
            "cylinders       398 non-null int64\n",
            "displacement    398 non-null int64\n",
            "horsepower      398 non-null int64\n",
            "weight          398 non-null int64\n",
            "acceleration    398 non-null float64\n",
            "model           398 non-null int64\n",
            "origin          398 non-null int64\n",
            "car             398 non-null object\n",
            "dtypes: float64(2), int64(6), object(1)\n",
            "memory usage: 31.1+ KB\n"
          ],
          "name": "stdout"
        }
      ]
    },
    {
      "cell_type": "markdown",
      "metadata": {
        "id": "WTXVeX3Wau65",
        "colab_type": "text"
      },
      "source": [
        "# Cleaning the Data"
      ]
    }
  ]
}